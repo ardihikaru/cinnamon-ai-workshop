{
 "cells": [
  {
   "cell_type": "code",
   "execution_count": 1,
   "metadata": {},
   "outputs": [
    {
     "name": "stdout",
     "output_type": "stream",
     "text": [
      "corpus : 0123456789ABCDEFGHIJKLMNOPQRSTUVWXYZ\n"
     ]
    },
    {
     "data": {
      "text/plain": [
       "Text(0.5, 1.0, 'U5JV')"
      ]
     },
     "execution_count": 1,
     "metadata": {},
     "output_type": "execute_result"
    },
    {
     "data": {
      "image/png": "[encoded data removed]",
      "text/plain": [
       "<Figure size 432x288 with 1 Axes>"
      ]
     },
     "metadata": {
      "needs_background": "light"
     },
     "output_type": "display_data"
    }
   ],
   "source": [
    "import torch\n",
    "import torch.nn as nn\n",
    "import torch.optim as optim\n",
    "import torch.nn.functional as F\n",
    "import numpy as np\n",
    "import random\n",
    "import string\n",
    "import captcha\n",
    "import editdistance\n",
    "\n",
    "import torchvision.models as models\n",
    "import matplotlib.pyplot as plt\n",
    "%matplotlib inline\n",
    "\n",
    "from torch.utils.tensorboard import SummaryWriter\n",
    "from tqdm import tqdm\n",
    "## random generate captcha\n",
    "## pip install captcha\n",
    "from captcha.image import ImageCaptcha \n",
    "\n",
    "\n",
    "\n",
    "## characters='0123456789ABCDEFGHIJKLMNOPQRSTUVWXYZ'\n",
    "characters = string.digits + string.ascii_uppercase\n",
    "print(\"corpus : {}\".format(characters))\n",
    "\n",
    "## set up size of generated image : width == 128, hright == 64, length == 4\n",
    "width, height, n_len, n_class = 128, 64, 4, len(characters)\n",
    "\n",
    "## random generate captcha\n",
    "generator = ImageCaptcha(width=width, height=height)\n",
    "\n",
    "## random select character from corpus, lenght == n_len\n",
    "random_str = ''.join([random.choice(characters) for j in range(n_len)])\n",
    "img = generator.generate_image(random_str)\n",
    "\n",
    "plt.imshow(img)\n",
    "plt.title(random_str)"
   ]
  },
  {
   "cell_type": "markdown",
   "metadata": {},
   "source": [
    "---"
   ]
  },
  {
   "cell_type": "markdown",
   "metadata": {},
   "source": [
    "### build corpus"
   ]
  },
  {
   "cell_type": "code",
   "execution_count": 2,
   "metadata": {},
   "outputs": [],
   "source": [
    "n=1 ## keep zero position for \"space\" class in CTC loss\n",
    "character_index = {} ## character to index dictionary\n",
    "index_character = {} ## index to character dictionary\n",
    "for character in characters:\n",
    "    character_index[character] = n\n",
    "    index_character[n] = character\n",
    "    n += 1\n",
    "  "
   ]
  },
  {
   "cell_type": "markdown",
   "metadata": {},
   "source": [
    "---"
   ]
  },
  {
   "cell_type": "markdown",
   "metadata": {},
   "source": [
    "### define loader"
   ]
  },
  {
   "cell_type": "code",
   "execution_count": 3,
   "metadata": {},
   "outputs": [],
   "source": [
    "generator = ImageCaptcha(width=width, height=height)\n",
    "\n",
    "def loader(batch_size: int = 8, width: int = width, height: int = height, generator: captcha.image.ImageCaptcha = generator):\n",
    "    \"\"\" generator : generate batch of captcha\n",
    "    Args:\n",
    "        batch_size: batch_size\n",
    "        width: width of generated images\n",
    "        height: height of generated images\n",
    "    Returns:\n",
    "        Random generated captcha images with corresponding label\n",
    "    \"\"\"\n",
    "    channels = 3 ## RGB\n",
    "    while True:\n",
    "        images = np.zeros((batch_size, height, width, channels), dtype=np.uint8)\n",
    "        labels = []\n",
    "        for _ in range(batch_size):\n",
    "            random_str = ''.join([random.choice(characters) for j in range(n_len)])\n",
    "            img = generator.generate_image(random_str)\n",
    "            for item in random_str:\n",
    "                labels.append(character_index.get(item))\n",
    "            images[_] = img\n",
    "        yield images, labels\n",
    "\n",
    "data_loader = loader()\n",
    "images, labels = next(data_loader)"
   ]
  },
  {
   "cell_type": "markdown",
   "metadata": {},
   "source": [
    "---"
   ]
  },
  {
   "cell_type": "markdown",
   "metadata": {},
   "source": [
    "### layers"
   ]
  },
  {
   "cell_type": "code",
   "execution_count": 4,
   "metadata": {},
   "outputs": [],
   "source": [
    "class ConvLayer(nn.Module):\n",
    "    def __init__(self, in_channels, out_channels, kernel_size, stride,\n",
    "                 padding, dropout_rate):\n",
    "        super(ConvLayer, self).__init__()\n",
    "        self.conv = nn.Sequential(\n",
    "            nn.Conv2d(\n",
    "                in_channels,\n",
    "                out_channels,\n",
    "                kernel_size=kernel_size,\n",
    "                stride=stride,\n",
    "                padding=padding,\n",
    "                bias=False,\n",
    "            ),\n",
    "            nn.BatchNorm2d(out_channels),\n",
    "            nn.LeakyReLU(inplace=True),\n",
    "            nn.Dropout(p= dropout_rate)\n",
    "        )\n",
    "\n",
    "    def forward(self, x):\n",
    "        out = self.conv(x)\n",
    "        return out\n",
    "    \n",
    "class ImageFeatureExtractor(nn.Module):\n",
    "    def __init__(self, resnet_model):\n",
    "        super(ImageFeatureExtractor, self).__init__()\n",
    "        self.conv1 = resnet_model.conv1\n",
    "        self.bn1 = resnet_model.bn1\n",
    "        self.relu = resnet_model.relu\n",
    "        self.maxpool = resnet_model.maxpool\n",
    "        self.layer1 = resnet_model.layer1\n",
    "        self.layer2 = resnet_model.layer2\n",
    "        self.layer3 = ConvLayer(128, 64, 3, (2, 1), 1, 0.3)\n",
    "        self.layer4 = ConvLayer(64, 64, 3, (2, 1), 1, 0.3)\n",
    "        self.layer5 = ConvLayer(64, 64, 3, (2, 1), 1, 0.3)\n",
    "    def forward(self, x):\n",
    "        x = self.conv1(x)\n",
    "        x = self.bn1(x)\n",
    "        x = self.relu(x)\n",
    "        x = self.maxpool(x)\n",
    "        x = self.layer1(x)\n",
    "        x = self.layer2(x)\n",
    "        x = self.layer3(x)\n",
    "        x = self.layer4(x)\n",
    "        x = self.layer5(x)\n",
    "        return x\n",
    "    \n",
    "class ImageFeatureExtractor(nn.Module):\n",
    "    def __init__(self, resnet_model):\n",
    "        super(ImageFeatureExtractor, self).__init__()\n",
    "        self.layer1 = ConvLayer(3, 64, 3, (2, 2), 1, 0.3)\n",
    "        self.maxpool1 = nn.MaxPool2d(2, 2)\n",
    "        self.layer2 = ConvLayer(64, 64, 3, (2, 1), 1, 0.3)\n",
    "        self.maxpool2 = nn.MaxPool2d(2, 2)\n",
    "        self.layer3 = ConvLayer(64, 64, 3, (2, 1), 1, 0.3)\n",
    "        self.layer4 = ConvLayer(64, 64, 3, (2, 1), 1, 0.3)\n",
    "    def forward(self, x):\n",
    "        x = self.layer1(x)\n",
    "        x = self.maxpool1(x)\n",
    "        x = self.layer2(x)\n",
    "        x = self.maxpool2(x)\n",
    "        x = self.layer3(x)\n",
    "        x = self.layer4(x)\n",
    "        return x\n",
    "    \n",
    "class BiRNN(torch.nn.Module):\n",
    "    def __init__(self, input_size, hidden_size, num_layers, num_classes,drop=0.3):\n",
    "        super(BiRNN, self).__init__()\n",
    "        self.GRU = torch.nn.GRU(input_size, hidden_size, num_layers, batch_first=False, dropout=drop, bidirectional=True)\n",
    "        self.fc = torch.nn.Linear(hidden_size*2, num_classes)  # 2 for bidirection\n",
    "\n",
    "    def forward(self, x):\n",
    "        out, _ = self.GRU(x)# out: tensor of shape (seq_length, batch_size, hidden_size*2)\n",
    "        # Decode the hidden state of the last time step\n",
    "        out = self.fc(out)\n",
    "        return out\n",
    "    \n",
    "class CRNN(nn.Module):\n",
    "    def __init__(self, cnn_backbone, num_classes=37):\n",
    "        super(CRNN, self).__init__()\n",
    "        self.feature_extractor = ImageFeatureExtractor(cnn_backbone)\n",
    "        self.GRU_First = BiRNN(64, 256, 2, 256, 0.3)\n",
    "        self.GRU_Second = BiRNN(256, 256, 2, 256, 0.3)\n",
    "        self.output = torch.nn.Linear(256,num_classes) \n",
    "        \n",
    "\n",
    "    def forward(self, x):\n",
    "        x = self.feature_extractor(x)\n",
    "        x = x.squeeze(2).permute(2,0,1)\n",
    "        x = self.GRU_First(x)\n",
    "        x = self.GRU_Second(x)\n",
    "        x = self.output(x)\n",
    "        return x"
   ]
  },
  {
   "cell_type": "code",
   "execution_count": 5,
   "metadata": {},
   "outputs": [],
   "source": [
    "model = ImageFeatureExtractor('')"
   ]
  },
  {
   "cell_type": "code",
   "execution_count": 6,
   "metadata": {},
   "outputs": [],
   "source": [
    "output = model(torch.randn(8, 3, 64, 128))"
   ]
  },
  {
   "cell_type": "code",
   "execution_count": 7,
   "metadata": {},
   "outputs": [
    {
     "data": {
      "text/plain": [
       "torch.Size([8, 64, 1, 16])"
      ]
     },
     "execution_count": 7,
     "metadata": {},
     "output_type": "execute_result"
    }
   ],
   "source": [
    "output.shape"
   ]
  },
  {
   "cell_type": "markdown",
   "metadata": {},
   "source": [
    "---"
   ]
  },
  {
   "cell_type": "markdown",
   "metadata": {},
   "source": [
    "### check instance type"
   ]
  },
  {
   "cell_type": "code",
   "execution_count": 8,
   "metadata": {},
   "outputs": [
    {
     "name": "stdout",
     "output_type": "stream",
     "text": [
      "device : cpu\n"
     ]
    }
   ],
   "source": [
    "model = CRNN(cnn_backbone=models.resnet34(pretrained=True))\n",
    "\n",
    "if torch.cuda.is_available():\n",
    "    device = 'cuda'\n",
    "else:\n",
    "    device = 'cpu'\n",
    "    \n",
    "model.to(device)\n",
    "model.train()\n",
    "print('device : {}'.format(device))"
   ]
  },
  {
   "cell_type": "markdown",
   "metadata": {},
   "source": [
    "---"
   ]
  },
  {
   "cell_type": "code",
   "execution_count": 9,
   "metadata": {},
   "outputs": [],
   "source": [
    "images, labels = next(data_loader)\n",
    "images = torch.tensor(images, dtype=torch.float32)"
   ]
  },
  {
   "cell_type": "code",
   "execution_count": 10,
   "metadata": {},
   "outputs": [
    {
     "name": "stdout",
     "output_type": "stream",
     "text": [
      "torch.Size([16, 8, 37])\n"
     ]
    }
   ],
   "source": [
    "images, labels = next(data_loader)\n",
    "images = torch.tensor(images, dtype=torch.float32).to(device)\n",
    "images = images.permute(0, 3, 1, 2)\n",
    "\n",
    "output = model(images)\n",
    "\n",
    "output_step = output.shape[0]\n",
    "print(output.shape)"
   ]
  },
  {
   "cell_type": "markdown",
   "metadata": {},
   "source": [
    "---"
   ]
  },
  {
   "cell_type": "markdown",
   "metadata": {},
   "source": [
    "### set up traininig elements"
   ]
  },
  {
   "cell_type": "code",
   "execution_count": 11,
   "metadata": {},
   "outputs": [
    {
     "name": "stdout",
     "output_type": "stream",
     "text": [
      "total parameters： 4034533\n"
     ]
    }
   ],
   "source": [
    "\n",
    "batch_size = 64\n",
    "data_loader = loader(batch_size=batch_size)\n",
    "ctc_loss = torch.nn.CTCLoss(blank=0, reduction='mean', zero_infinity=True) \n",
    "\n",
    "input_lengths = torch.tensor([output_step for _ in range(batch_size)],dtype=torch.long) ## output timestep\n",
    "target_lengths = torch.tensor([4 for _ in range(batch_size)],dtype=torch.long) ## it can be dynamic, but in our case is fixed\n",
    "\n",
    "optimizer = optim.Adam(model.parameters(), lr=0.001 / batch_size)\n",
    "lr_scheduler = torch.optim.lr_scheduler.ExponentialLR(optimizer=optimizer, gamma=0.95)\n",
    "\n",
    "model_parameters = filter(lambda p: p.requires_grad, model.train().parameters())\n",
    "params = sum([np.prod(p.size()) for p in model_parameters])\n",
    "print('total parameters：' ,params)\n",
    "\n",
    "writer = SummaryWriter(log_dir='crnn_ctc_writer/')\n",
    "\n",
    "max_iterations = 10000\n",
    "early_stop = 20\n"
   ]
  },
  {
   "cell_type": "markdown",
   "metadata": {},
   "source": [
    "---"
   ]
  },
  {
   "cell_type": "code",
   "execution_count": 12,
   "metadata": {},
   "outputs": [],
   "source": [
    "def decode(prediction, index_character_dictionary=index_character):\n",
    "    predict_string = ''\n",
    "    previous_step = 0\n",
    "    for character in prediction:\n",
    "        if character > 0:\n",
    "            if previous_step != character:\n",
    "                predict_string += index_character_dictionary.get(character)\n",
    "        previous_step = character\n",
    "    return predict_string\n",
    "    \n",
    "def get_editdistance_loss(y_true: str, y_pred: str) -> int:\n",
    "    \"\"\"Edit distance between two string\"\"\"\n",
    "    return editdistance.distance(y_true, y_pred)\n",
    "\n",
    "def get_similarity_score(y_true: str, y_pred: str) -> int:\n",
    "    max_len = max(len(y_pred), len(y_true))\n",
    "    return (max_len - get_editdistance_loss(y_true, y_pred)) / max_len"
   ]
  },
  {
   "cell_type": "markdown",
   "metadata": {},
   "source": [
    "---"
   ]
  },
  {
   "cell_type": "code",
   "execution_count": null,
   "metadata": {},
   "outputs": [
    {
     "name": "stderr",
     "output_type": "stream",
     "text": [
      "  0%|          | 1/10000 [00:00<2:34:25,  1.08it/s]"
     ]
    },
    {
     "name": "stdout",
     "output_type": "stream",
     "text": [
      "current status : 0 iterations\n",
      "current loss：  11.45068073272705\n",
      "accuracy：  0.04444444444444444\n",
      "\n",
      "\n"
     ]
    },
    {
     "name": "stderr",
     "output_type": "stream",
     "text": [
      "  0%|          | 26/10000 [00:21<2:19:39,  1.19it/s]"
     ]
    }
   ],
   "source": [
    "\n",
    "for iteration in tqdm(range(max_iterations)):\n",
    "    \n",
    "    if (iteration != 0) and (iteration % 500 == 0):\n",
    "        lr_scheduler.step()\n",
    "    if (iteration % 500 == 0):\n",
    "        average_score_list = []\n",
    "        average_loss_list = []\n",
    "    \n",
    "    images, labels = next(data_loader)\n",
    "    images = torch.tensor(images).type(torch.FloatTensor).to(device)\n",
    "    labels = torch.tensor(labels).type(torch.LongTensor).to(device)\n",
    "    images = images / 127.5 - 1 \n",
    "    images = images.permute(0,3,1,2)\n",
    "\n",
    "    optimizer.zero_grad()\n",
    "\n",
    "    output = model(images)\n",
    "    \n",
    "    prediction = output.detach().clone()\n",
    "    prediction = F.softmax(prediction, 2)\n",
    "    prediction = prediction.argmax(2).permute(1, 0)\n",
    "    prediction = prediction.cpu().numpy()\n",
    "    \n",
    "\n",
    "    \n",
    "    output = torch.nn.functional.log_softmax(output, dim=2)\n",
    "    loss = ctc_loss(output, labels, input_lengths, target_lengths)\n",
    "    loss.backward()\n",
    "    optimizer.step()\n",
    "    \n",
    "    loss = loss.detach().item()\n",
    "    average_loss_list.append(loss)\n",
    "    \n",
    "    \n",
    "    decode_prediction = []\n",
    "    for item in prediction:\n",
    "        decode_string = decode(item)\n",
    "        decode_prediction.append(decode_string)\n",
    "        \n",
    "    label_convert = labels.clone().detach().cpu().numpy()\n",
    "    label_convert = label_convert.reshape(-1, 4)\n",
    "    decode_label = []\n",
    "    for item in label_convert:\n",
    "        decode_string = ''\n",
    "        for character in item:\n",
    "            decode_string += index_character.get(character)\n",
    "        decode_label.append(decode_string)\n",
    "        \n",
    "    score_list = []\n",
    "    \n",
    "    for predict, ground_truth in zip(decode_prediction, decode_label):\n",
    "        score = get_similarity_score(ground_truth, predict)\n",
    "        score_list.append(score)\n",
    "    \n",
    "    average_score = np.mean(score_list)\n",
    "    average_score_list.append(average_score)\n",
    "\n",
    "    if iteration % 500 == 0:  \n",
    "        mean_loss_for_100_iteration = np.mean(average_loss_list)\n",
    "        mean_accuracy_for_100_iteration = np.mean(average_score_list)\n",
    "        \n",
    "        writer.add_scalar('train/loss', mean_loss_for_100_iteration, iteration)\n",
    "        writer.add_scalar('train/score', mean_accuracy_for_100_iteration, iteration)\n",
    "        \n",
    "        print('current status : {} iterations'.format(iteration))\n",
    "        print('current loss： ', mean_loss_for_100_iteration)\n",
    "        print('accuracy： ', mean_accuracy_for_100_iteration)\n",
    "        print('\\n')\n",
    "\n"
   ]
  },
  {
   "cell_type": "code",
   "execution_count": null,
   "metadata": {},
   "outputs": [],
   "source": []
  }
 ],
 "metadata": {
  "kernelspec": {
   "display_name": "Python 3",
   "language": "python",
   "name": "python3"
  },
  "language_info": {
   "codemirror_mode": {
    "name": "ipython",
    "version": 3
   },
   "file_extension": ".py",
   "mimetype": "text/x-python",
   "name": "python",
   "nbconvert_exporter": "python",
   "pygments_lexer": "ipython3",
   "version": "3.7.4"
  }
 },
 "nbformat": 4,
 "nbformat_minor": 4
}
